{
 "cells": [
  {
   "cell_type": "code",
   "execution_count": 49,
   "id": "f8cbfcf4",
   "metadata": {},
   "outputs": [
    {
     "data": {
      "text/plain": [
       "<astropy.visualization.units.quantity_support.<locals>.MplQuantityConverter at 0x128879d0>"
      ]
     },
     "execution_count": 49,
     "metadata": {},
     "output_type": "execute_result"
    }
   ],
   "source": [
    "import numpy as np #Maths\n",
    "import matplotlib.pyplot as plt #Graphs\n",
    "from astropy import units as unit #woo units\n",
    "from astropy.visualization import quantity_support #This is needed so graphs works with units\n",
    "quantity_support() #This turns on graphs with units"
   ]
  },
  {
   "cell_type": "code",
   "execution_count": 50,
   "id": "cbb0aea9",
   "metadata": {},
   "outputs": [],
   "source": [
    "#Equation to handle calculating gravitational force\n",
    "def Gravity_Force(mass, g):\n",
    "    '''\n",
    "    A function to calculate the force of gravity acting on an object with mass\n",
    "    Inputs: \n",
    "        mass(units.kg), the mass of the object\n",
    "        g(units.m/units.s), the gravitational accelleration the object is subjected to\n",
    "    Outputs:\n",
    "        units.N, a calculated force\n",
    "    '''\n",
    "    return((mass*g).to(unit.N))"
   ]
  },
  {
   "cell_type": "code",
   "execution_count": 51,
   "id": "6e6be8b3",
   "metadata": {},
   "outputs": [],
   "source": [
    "def Drag_Force(crossarea, dragcoeffecient, velocity, altitude):\n",
    "    '''\n",
    "    A function to calculate the drag force a falling body experiences through an atmosphere\n",
    "    Inputs:\n",
    "        crossarea(unit.m**2), the cross sectional area of the object. Any length^2 unit should work\n",
    "        dragcoeffecient(unitless), a coeffecient based off of the shape of the object. See https://en.wikipedia.org/wiki/Drag_coefficient\\\n",
    "        velocity(unit.m/unit.s), the instantaneous velocity the object is moving at\n",
    "        altitude(unit.m), the current altitude of the object. Used in Atmosphere_Density\n",
    "    Outputs:\n",
    "        unit.N, a calculated force\n",
    "    '''\n",
    "    return((1/2 * dragcoeffecient * crossarea * velocity**2 * Atmosphere_Density(altitude)).to(unit.N))"
   ]
  },
  {
   "cell_type": "code",
   "execution_count": 52,
   "id": "104980d2",
   "metadata": {},
   "outputs": [],
   "source": [
    "#Equation to give an accelleration by combining all relevant forces\n",
    "def Accelleration_Calculator(mass, g, crossarea, dragcoeffecient, v0, altitude):\n",
    "    '''\n",
    "    A calculator function to find the instantaneous accelleration of a falling object\n",
    "    Inputs:\n",
    "        mass, g for use in Gravity_Force\n",
    "        crossarea, dragcoeffecient, v0, altitude for use in Drag_Force\n",
    "    Outputs:\n",
    "        unit.m/unit.s**2, a calculated accelleration an object with the above parameters has\n",
    "    '''\n",
    "    return((Gravity_Force(mass, g) + Drag_Force(crossarea, dragcoeffecient, v0, altitude)) / mass).to(unit.m/(unit.s)**2)\n"
   ]
  },
  {
   "cell_type": "code",
   "execution_count": 53,
   "id": "9bc1eb09",
   "metadata": {},
   "outputs": [],
   "source": [
    "#Equation to work with our accellerations and our time intervals\n",
    "def Velocity_Calculator(mass, g, dtime, v0, crossarea, dragcoeffecient, altitude):\n",
    "    '''\n",
    "    A calculator function to find the instantaneous velocity of a falling object\n",
    "    Inputs:\n",
    "        mass, g for use in Gravity_Force\n",
    "        dragparam, v0 for use in Drag_Force\n",
    "        dtime(unit.s), a time interval the calculator will calculate over\n",
    "        v0 is also used as the starting velocity, accelleration will give a dV so we have an initial condition\n",
    "    Outputs:\n",
    "        unit.m/unit.s, a calculated velocity an object with the above parameters has\n",
    "    '''\n",
    "    return (Accelleration_Calculator(mass, g, crossarea, dragcoeffecient, v0, altitude) * dtime + v0).to(unit.m/unit.s)\n"
   ]
  },
  {
   "cell_type": "code",
   "execution_count": 54,
   "id": "f3da3bde",
   "metadata": {},
   "outputs": [],
   "source": [
    "#Equation to go from velocity to position\n",
    "def Position_Calculator(mass, g, dtime, v0, p0, crossarea, dragcoeffecient):\n",
    "    '''\n",
    "        A calculator function to find the instantaneous velocity of a falling object\n",
    "    Inputs:\n",
    "        mass, g for use in Gravity_Force\n",
    "        dragparam, v0 for use in Drag_Force\n",
    "        v0 for use in Velocity_Calculator\n",
    "        dtime(unit.s), a time interval the calculator will calculate over\n",
    "    Outputs:\n",
    "        unit.m, a calculated position an object with the above parameters has\n",
    "    '''\n",
    "    return(Velocity_Calculator(mass, g, dtime, v0, crossarea, dragcoeffecient, p0) * dtime + p0).to(unit.m)\n"
   ]
  },
  {
   "cell_type": "code",
   "execution_count": 55,
   "id": "738d5e1f",
   "metadata": {},
   "outputs": [],
   "source": [
    "#Function to make sure we are still falling, not hitting the ground\n",
    "def Impact_Finder(currentposition):\n",
    "    if(currentposition <=0 * unit.m):\n",
    "        return(True)\n",
    "    else:\n",
    "        return(False)"
   ]
  },
  {
   "cell_type": "code",
   "execution_count": 67,
   "id": "7030257b",
   "metadata": {},
   "outputs": [],
   "source": [
    "def Impact_Timescale(youngs, surfacearea, mass):\n",
    "    springconstant = youngs * surfacearea / unit.m #Just making it so the floor has a unit length, blarg units\n",
    "    angularfrequency = np.sqrt(springconstant/mass)\n",
    "    return(2*np.pi / (4 * angularfrequency))"
   ]
  },
  {
   "cell_type": "markdown",
   "id": "beac001b",
   "metadata": {},
   "source": [
    "OK Functions done, now time for interface"
   ]
  },
  {
   "cell_type": "code",
   "execution_count": 56,
   "id": "21deb1e6",
   "metadata": {},
   "outputs": [],
   "source": [
    "#TODO List\n",
    "#maybe show how this method compares to actual e^whatever function\n",
    "    #https://en.wikipedia.org/wiki/Drag_(physics)#Low_Reynolds_Numbers:_Stokes'_drag\n",
    "#Experiment away?\n",
    "    #Will need parameters to test over(range)\n",
    "    #main thing is atmosphere functions, get this right"
   ]
  },
  {
   "cell_type": "code",
   "execution_count": 57,
   "id": "15f1a425",
   "metadata": {},
   "outputs": [],
   "source": [
    "#Euler's Method for Falling Object"
   ]
  },
  {
   "cell_type": "code",
   "execution_count": 109,
   "id": "1722aa98",
   "metadata": {},
   "outputs": [],
   "source": [
    "#The Experiment Setup\n",
    "mass = 70 * unit.kg                        #mass\n",
    "g = -9.8 * (unit.m/(unit.s**2))            #gravitational accelleration\n",
    "crossarea = 1 * unit.m**2                 #cross sectional area\n",
    "dragcoeffecient = 0.8                     #unitless drag coeffecient\n",
    "v0 = 0 * (unit.m/unit.s)                  #initial velocity\n",
    "p0 = 1000 * unit.m                      #initial position\n",
    "time_end = 200                            #simulation length (units added later)\n",
    "                                         #(Graphs will truncate to impact, but this can be used for middle of fall)\n",
    "time_interval = 0.1                        #time interval (dTime size)(units added later)\n",
    "flooryoungs = 7*10**10 * unit.Pa          #Youngs Modulus of the floor we are impacting #7*10**10 is for aluminum\n",
    "fracturestress = 2 * unit.N/unit.mm**2       #Fracture Stress of falling object(used for lethality) #This value should roughly match human's tolerance\n",
    "def Atmosphere_Density(altitude):\n",
    "    '''\n",
    "    This function will return the density of a simulation's atmosphere at a given altitude\n",
    "    Input: Altitude(unit.m), the altitude you want to survey\n",
    "    Output: Atmospheric Density (unit.kg/unit.m^3)\n",
    "    '''\n",
    "    if(altitude > 300*unit.m):              #Sudden Atmosphere\n",
    "        return(0 * unit.kg/unit.m**3)\n",
    "    else:\n",
    "        return(1.293 * unit.kg/unit.m**3)\n",
    "#     return(1.293 * unit.kg/unit.m**3)          #Constant Atmosphere\n",
    "#     return(1.293 * unit.kg/unit.m**3 * 1/(altitude.value + 1))       #1/x Increasing Atmosphere\n",
    "#     return(1.293 * unit.kg/unit.m**3 * (p0.value - altitude.value) / p0.value)      #Linear Atmosphere"
   ]
  },
  {
   "cell_type": "code",
   "execution_count": 110,
   "id": "fdaf6c4c",
   "metadata": {
    "scrolled": true
   },
   "outputs": [
    {
     "name": "stdout",
     "output_type": "stream",
     "text": [
      "Fall is not survivable\n",
      "The impact velocity was:  -38.21946983705462 m / s\n",
      "This led to an impact force of:  53859562.51060466 N\n",
      "The object could survive impact forces of less than:  2000000.0 N\n"
     ]
    },
    {
     "data": {
      "image/png": "[encoded data removed]",
      "text/plain": [
       "<Figure size 432x288 with 1 Axes>"
      ]
     },
     "metadata": {
      "needs_background": "light"
     },
     "output_type": "display_data"
    },
    {
     "data": {
      "image/png": "[encoded data removed]",
      "text/plain": [
       "<Figure size 432x288 with 1 Axes>"
      ]
     },
     "metadata": {
      "needs_background": "light"
     },
     "output_type": "display_data"
    },
    {
     "data": {
      "image/png": "[encoded data removed]",
      "text/plain": [
       "<Figure size 432x288 with 1 Axes>"
      ]
     },
     "metadata": {
      "needs_background": "light"
     },
     "output_type": "display_data"
    },
    {
     "data": {
      "image/png": "[encoded data removed]",
      "text/plain": [
       "<Figure size 432x288 with 1 Axes>"
      ]
     },
     "metadata": {
      "needs_background": "light"
     },
     "output_type": "display_data"
    }
   ],
   "source": [
    "#This will setup a discrete Time coordinate, as well as handle dtime calculation\n",
    "TimeSteps = np.linspace(0, time_end, int(time_end/time_interval + 1)) * unit.s #This will do 0-100 seconds, .1 second interval\n",
    "dTimeSteps = (np.zeros(int(time_end/time_interval + 1)) + time_interval) * unit.s\n",
    "\n",
    "#This function will run through and calculate all the velocities at out time steps\n",
    "#The velocities are absolute velocities at that time (not dVelocity), function makes sure to factor in previous velocity\n",
    "AccellerationValues = [g]\n",
    "VelocityValues = [v0]\n",
    "PositionValues = [p0]\n",
    "ImpactTime=['empty']\n",
    "ImpactVelocity = ['empty']\n",
    "for i in range(len(dTimeSteps)):\n",
    "    VelocityValues.append(Velocity_Calculator(mass, g, dTimeSteps[i], VelocityValues[i], crossarea, dragcoeffecient, PositionValues[i]))\n",
    "    AccellerationValues.append(Accelleration_Calculator(mass, g, crossarea, dragcoeffecient, VelocityValues[i], PositionValues[i]))\n",
    "    PositionValues.append(Position_Calculator(mass, g, dTimeSteps[i], VelocityValues[i], PositionValues[i], crossarea, dragcoeffecient))\n",
    "    if(Impact_Finder(PositionValues[i]) == True):\n",
    "        PositionValues[i] = 0 * unit.m #Correct stuff that hits ground to not move\n",
    "    if((ImpactTime == ['empty']) & (PositionValues[i] == 0 * unit.m)): #Looks for first instance of position 0\n",
    "        ImpactTime = TimeSteps[i] #And stores the first time that has position 0 which was corrected by Impact_Finder\n",
    "        ImpactVelocity = VelocityValues[i]\n",
    "    \n",
    "    \n",
    "    \n",
    "    \n",
    "    \n",
    "tempTime = []    \n",
    "for i in range(len(TimeSteps)): #I dislike this workaround greatly, I will find a better way\n",
    "    tempTime.append(TimeSteps[i].value)    \n",
    "    \n",
    "######################################################################################    \n",
    "temp=[]\n",
    "for i in range(len(AccellerationValues)): #I dislike this workaround greatly, I will find a better way\n",
    "    temp.append(AccellerationValues[i].value)\n",
    "plt.figure(3)\n",
    "plt.plot(tempTime[1:], temp[1:-1], label = 'Drag Included')\n",
    "plt.title('Accelleration over Time')\n",
    "plt.ylabel('Accelleration (m/s)')\n",
    "plt.xlabel('Time (s)')\n",
    "\n",
    "#plt.plot(tempTime, np.asarray(tempTime) * 0 + g, linestyle = '--', label = 'No Drag') #This shows continuous expected\n",
    "plt.xlim(right = ImpactTime.value + 3, left = 0)\n",
    "plt.ylim(bottom = np.min(temp), top = np.max(temp))\n",
    "\n",
    "plt.legend()    \n",
    "#######################################################################################    \n",
    "temp=[]\n",
    "for i in range(len(VelocityValues)): #I dislike this workaround greatly, I will find a better way\n",
    "    temp.append(VelocityValues[i].value)\n",
    "plt.figure(1)\n",
    "plt.plot(tempTime[1:], temp[1:-1], label = 'Drag Included')\n",
    "plt.title('Velocity over Time')\n",
    "plt.ylabel('Velocity (m/s)')\n",
    "plt.xlabel('Time (s)')\n",
    "\n",
    "#plt.plot(tempTime, np.asarray(tempTime) * g, linestyle = '--', label = 'No Drag') #This shows continuous expected\n",
    "plt.xlim(right = ImpactTime.value + 3, left = 0)\n",
    "plt.ylim(bottom = ImpactVelocity.value - 3, top = np.max(temp))\n",
    "plt.vlines(ImpactTime.value, ImpactVelocity.value, v0.value, color = 'r', linestyle = '--', label = 'Impact Velocity: ' + str(ImpactVelocity))\n",
    "\n",
    "plt.legend()\n",
    "######################################################################################\n",
    "temp=[]\n",
    "for i in range(len(PositionValues)): #I dislike this workaround greatly, I will find a better way\n",
    "    temp.append(PositionValues[i].value)\n",
    "plt.figure(2)\n",
    "plt.plot(tempTime[1:], temp[1:-1], label = 'Drag Included')\n",
    "plt.title('Position over Time')\n",
    "plt.ylabel('Change in Vertical Position (m)')\n",
    "plt.xlabel('Time (s)')\n",
    "\n",
    "#plt.plot(tempTime, (np.asarray(tempTime)**2 * g/2).value + p0.value, linestyle = '--', label = 'No Drag') #This shows continuous expected\n",
    "plt.xlim(right = ImpactTime + 3*unit.s, left = 0*unit.s)\n",
    "plt.ylim(bottom = -30 * unit.m, top = np.max(temp) * 1.1)\n",
    "plt.vlines(ImpactTime, 0*unit.m, np.max(temp), color = 'r', linestyle = '--', label = 'Impact Time: ' + str(ImpactTime))\n",
    "\n",
    "plt.legend()\n",
    "##########################################################################################\n",
    "temp2 = []\n",
    "for i in range(len(PositionValues)): #I dislike this workaround greatly, I will find a better way\n",
    "    temp2.append(Atmosphere_Density(PositionValues[i]).value)\n",
    "plt.figure(4)\n",
    "plt.plot(temp[:-1], temp2[:-1])\n",
    "plt.title('Atmospheric Density over Altitude')\n",
    "plt.xlabel('Altitude')\n",
    "plt.ylabel('Atmospheric Density')\n",
    "###########################################################################################\n",
    "#Handling the impact stuff\n",
    "ImpactTimescale = Impact_Timescale(flooryoungs, crossarea, mass).to(unit.s)\n",
    "#We know the time the impact takes place over, and we know the velocity needs to go from ImpactVelocity to 0\n",
    "#Calculate Accelleration\n",
    "ImpactAccelleration = -ImpactVelocity/ImpactTimescale\n",
    "# print(ImpactVelocity, ImpactTimescale, ImpactAccelleration)\n",
    "#F=ma\n",
    "ImpactForce = (ImpactAccelleration * mass).to(unit.N)\n",
    "# print(ImpactForce)\n",
    "if(ImpactForce > (fracturestress * crossarea).to(unit.N)):\n",
    "    print('Fall is not survivable')\n",
    "    print('The impact velocity was: ', ImpactVelocity)\n",
    "    print('This led to an impact force of: ', ImpactForce)\n",
    "    print('The object could survive impact forces of less than: ', (fracturestress * crossarea).to(unit.N))\n",
    "else:\n",
    "    print('Fall is survivable')\n",
    "    print('The impact velocity was: ', ImpactVelocity)\n",
    "    print('This led to an impact force of: ', ImpactForce)\n",
    "    print('The object could survive impact forces of less than: ', (fracturestress * crossarea).to(unit.N))"
   ]
  },
  {
   "cell_type": "code",
   "execution_count": null,
   "id": "8c4fb285",
   "metadata": {},
   "outputs": [],
   "source": []
  },
  {
   "cell_type": "code",
   "execution_count": null,
   "id": "38d4c234",
   "metadata": {},
   "outputs": [],
   "source": []
  },
  {
   "cell_type": "code",
   "execution_count": null,
   "id": "3c13c72b",
   "metadata": {},
   "outputs": [],
   "source": []
  }
 ],
 "metadata": {
  "kernelspec": {
   "display_name": "Python 3",
   "language": "python",
   "name": "python3"
  },
  "language_info": {
   "codemirror_mode": {
    "name": "ipython",
    "version": 3
   },
   "file_extension": ".py",
   "mimetype": "text/x-python",
   "name": "python",
   "nbconvert_exporter": "python",
   "pygments_lexer": "ipython3",
   "version": "3.8.8"
  }
 },
 "nbformat": 4,
 "nbformat_minor": 5
}
